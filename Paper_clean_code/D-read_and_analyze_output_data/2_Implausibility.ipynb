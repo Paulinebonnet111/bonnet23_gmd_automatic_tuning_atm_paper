{
 "cells": [
  {
   "cell_type": "code",
   "execution_count": 1,
   "id": "81ce7538-982c-4cf7-8532-ff3942f6d5e8",
   "metadata": {},
   "outputs": [],
   "source": [
    "import numpy as np\n",
    "import os\n",
    "import time\n",
    "import matplotlib.pyplot as plt\n",
    "from os.path import exists\n",
    "import random\n",
    "\n",
    "#GP\n",
    "import sklearn\n",
    "from sklearn import preprocessing\n",
    "from sklearn.gaussian_process import GaussianProcessRegressor\n",
    "from sklearn.gaussian_process.kernels import RBF, Matern\n",
    "from sklearn.model_selection import KFold, cross_val_score\n",
    "from sklearn.model_selection import cross_val_predict\n",
    "from sklearn.metrics import PredictionErrorDisplay\n",
    "\n",
    "\n",
    "#LHC sampling \n",
    "from scipy.stats import qmc\n",
    "\n",
    "#map\n",
    "from numpy import exp,arange\n",
    "from pylab import meshgrid,cm,imshow,contour,clabel,colorbar,axis,title,show\n",
    "\n",
    "#homemade function file\n",
    "import importlib\n",
    "import ppe_loading_functions #as functions\n",
    "importlib.reload(ppe_loading_functions)\n",
    "import ref_data_functions #as functions\n",
    "importlib.reload(ref_data_functions)\n",
    "\n",
    "\n",
    "import matplotlib.colors as mcolors\n",
    "mcolors.CSS4_COLORS\n",
    "\n",
    "colors=['c', 'b', 'm', 'k', 'y', 'gray','lightcoral', 'dodgerblue', 'blueviolet']\n",
    "shapes=['.', '*', '+', '>', '<', 's','-.', 'o']"
   ]
  },
  {
   "attachments": {},
   "cell_type": "markdown",
   "id": "3b6e3a86-7ef9-4af6-a258-64218be94465",
   "metadata": {},
   "source": [
    "# Load ICON PPEs"
   ]
  },
  {
   "cell_type": "code",
   "execution_count": 2,
   "id": "e34193c1",
   "metadata": {},
   "outputs": [],
   "source": [
    "var1stPPE, results1stPPE,var2ndPPE, results2ndPPE, varMoreCloudParam, resultsMoreCloudParam,\\\n",
    " varMoreCloudParam2, resultsMoreCloudParam2, varPhyDyn_NewParam_2tun,resultsPhyDyn_NewParam_2tun,\\\n",
    " varPhyDyn_NewParam_5thPPE_2tun,results_5thPPE_2tun=\\\n",
    "ppe_loading_functions.load_all_ppes()"
   ]
  },
  {
   "cell_type": "code",
   "execution_count": 3,
   "id": "d69e3f29",
   "metadata": {},
   "outputs": [],
   "source": [
    "#Ref tuned ICON-A 2.6.4\n",
    "pressure_addi,pressure_fact,tauufact,aes_glo_psl,aes_SOO_tauu,aes_NAO_tauu,aes_60N_1000hPa_ua,aes_60S_1000hPa_ua,\\\n",
    "aes_60N_10hPa_ua,aes_60S_10hPa_ua=ref_data_functions.ICON_aes_refdata()"
   ]
  },
  {
   "cell_type": "code",
   "execution_count": 4,
   "id": "f1512cf5",
   "metadata": {},
   "outputs": [
    {
     "name": "stderr",
     "output_type": "stream",
     "text": [
      "/home/b/b309216/bonnet23_gmd_automatic_tuning_atm_paper/Paper_clean_code/D-read_and_analyze_output_data/ref_data_functions.py:26: UserWarning: WARNING: valid_min not used since it\n",
      "cannot be safely cast to variable data type\n",
      "  ref_TOASW=file['gsolar_clim'][:]-file['gtoa_sw_all_clim'][:] #m/W^2\n",
      "/home/b/b309216/bonnet23_gmd_automatic_tuning_atm_paper/Paper_clean_code/D-read_and_analyze_output_data/ref_data_functions.py:26: UserWarning: WARNING: valid_max not used since it\n",
      "cannot be safely cast to variable data type\n",
      "  ref_TOASW=file['gsolar_clim'][:]-file['gtoa_sw_all_clim'][:] #m/W^2\n",
      "/home/b/b309216/bonnet23_gmd_automatic_tuning_atm_paper/Paper_clean_code/D-read_and_analyze_output_data/ref_data_functions.py:27: UserWarning: WARNING: valid_min not used since it\n",
      "cannot be safely cast to variable data type\n",
      "  ref_TOALW=-file['gtoa_lw_all_clim'][:] #m/W^2\n",
      "/home/b/b309216/bonnet23_gmd_automatic_tuning_atm_paper/Paper_clean_code/D-read_and_analyze_output_data/ref_data_functions.py:27: UserWarning: WARNING: valid_max not used since it\n",
      "cannot be safely cast to variable data type\n",
      "  ref_TOALW=-file['gtoa_lw_all_clim'][:] #m/W^2\n",
      "/home/b/b309216/bonnet23_gmd_automatic_tuning_atm_paper/Paper_clean_code/D-read_and_analyze_output_data/ref_data_functions.py:28: UserWarning: WARNING: valid_min not used since it\n",
      "cannot be safely cast to variable data type\n",
      "  ref_Cl=file['gcldarea_total_daynight_clim'][:] #%\n",
      "/home/b/b309216/bonnet23_gmd_automatic_tuning_atm_paper/Paper_clean_code/D-read_and_analyze_output_data/ref_data_functions.py:28: UserWarning: WARNING: valid_max not used since it\n",
      "cannot be safely cast to variable data type\n",
      "  ref_Cl=file['gcldarea_total_daynight_clim'][:] #%\n",
      "/home/b/b309216/kernels/my-kernel/lib/python3.8/site-packages/pyproj/__init__.py:89: UserWarning: pyproj unable to set database path.\n",
      "  _pyproj_global_context_initialize()\n",
      "/home/b/b309216/kernels/my-kernel/lib/python3.8/site-packages/iris/analysis/cartography.py:412: UserWarning: Using DEFAULT_SPHERICAL_EARTH_RADIUS.\n",
      "  warnings.warn(\"Using DEFAULT_SPHERICAL_EARTH_RADIUS.\")\n",
      "/home/b/b309216/kernels/my-kernel/lib/python3.8/site-packages/iris/analysis/cartography.py:412: UserWarning: Using DEFAULT_SPHERICAL_EARTH_RADIUS.\n",
      "  warnings.warn(\"Using DEFAULT_SPHERICAL_EARTH_RADIUS.\")\n",
      "/home/b/b309216/kernels/my-kernel/lib/python3.8/site-packages/iris/analysis/cartography.py:412: UserWarning: Using DEFAULT_SPHERICAL_EARTH_RADIUS.\n",
      "  warnings.warn(\"Using DEFAULT_SPHERICAL_EARTH_RADIUS.\")\n",
      "/home/b/b309216/kernels/my-kernel/lib/python3.8/site-packages/iris/analysis/cartography.py:412: UserWarning: Using DEFAULT_SPHERICAL_EARTH_RADIUS.\n",
      "  warnings.warn(\"Using DEFAULT_SPHERICAL_EARTH_RADIUS.\")\n",
      "/home/b/b309216/kernels/my-kernel/lib/python3.8/site-packages/iris/analysis/cartography.py:412: UserWarning: Using DEFAULT_SPHERICAL_EARTH_RADIUS.\n",
      "  warnings.warn(\"Using DEFAULT_SPHERICAL_EARTH_RADIUS.\")\n",
      "/home/b/b309216/kernels/my-kernel/lib/python3.8/site-packages/iris/analysis/cartography.py:412: UserWarning: Using DEFAULT_SPHERICAL_EARTH_RADIUS.\n",
      "  warnings.warn(\"Using DEFAULT_SPHERICAL_EARTH_RADIUS.\")\n",
      "/home/b/b309216/kernels/my-kernel/lib/python3.8/site-packages/iris/analysis/cartography.py:412: UserWarning: Using DEFAULT_SPHERICAL_EARTH_RADIUS.\n",
      "  warnings.warn(\"Using DEFAULT_SPHERICAL_EARTH_RADIUS.\")\n",
      "/home/b/b309216/kernels/my-kernel/lib/python3.8/site-packages/iris/analysis/cartography.py:412: UserWarning: Using DEFAULT_SPHERICAL_EARTH_RADIUS.\n",
      "  warnings.warn(\"Using DEFAULT_SPHERICAL_EARTH_RADIUS.\")\n"
     ]
    },
    {
     "name": "stdout",
     "output_type": "stream",
     "text": [
      "[ 2.40866470e+02 -2.40114889e+02  5.00000000e-01  6.74343643e+01\n",
      "  2.44086728e+01  1.09413767e+01  3.27732849e+01  2.94719753e-03\n",
      "  1.36748120e-01]\n"
     ]
    },
    {
     "name": "stderr",
     "output_type": "stream",
     "text": [
      "/home/b/b309216/kernels/my-kernel/lib/python3.8/site-packages/iris/analysis/cartography.py:412: UserWarning: Using DEFAULT_SPHERICAL_EARTH_RADIUS.\n",
      "  warnings.warn(\"Using DEFAULT_SPHERICAL_EARTH_RADIUS.\")\n"
     ]
    }
   ],
   "source": [
    "#Physics Ref\n",
    "ref_mean, ref_std=ref_data_functions.References_outputs()\n",
    "#Dynamics Ref\n",
    "refsERA5, refsMERRA2, refsERAInterim=ref_data_functions.References_Dynoutputs()\n",
    "\n",
    "#all ref values for Physics and Dynamic variables\n",
    "ref2tun_mean=np.zeros(9)\n",
    "ref2tun_mean[0:5]=ref_mean #physics variables\n",
    "ref2tun_mean[5:]=[refsERA5[0],refsERA5[1],refsERA5[2],refsERA5[3]] #dynamics variables\n",
    "#ref_mean\n",
    "print(ref2tun_mean)\n",
    "\n",
    "#all std for Physics and Dynamic variables: not used yet in the HM flow"
   ]
  },
  {
   "cell_type": "code",
   "execution_count": 5,
   "id": "93d6cefd",
   "metadata": {},
   "outputs": [],
   "source": [
    "ref_Clt_ESACCI, ref_Clt_ESACCI_std, ref_Clt_CLARA_AVHRR, ref_Clt_CLARA_AVHRR_std=ref_data_functions.Ref_clt()\n",
    "ref_Prw_ESACCI, ref_Prw_ERA5, ref_Prw_ERA5_std=ref_data_functions.Ref_prw()"
   ]
  },
  {
   "cell_type": "code",
   "execution_count": 6,
   "id": "158f602d",
   "metadata": {},
   "outputs": [],
   "source": [
    "years_clt_esacci,clt_esacci_per_year=ref_data_functions.clt_esacci_per_years()\n",
    "years_clt_claraavhrr,clt_claraavhrr_per_year=ref_data_functions.clt_claraavhrr_per_years()\n",
    "years_prw_era5,prw_era5_per_year=ref_data_functions.prw_era5_per_years()"
   ]
  },
  {
   "cell_type": "code",
   "execution_count": 7,
   "id": "fb4c732c",
   "metadata": {},
   "outputs": [
    {
     "name": "stderr",
     "output_type": "stream",
     "text": [
      "/home/b/b309216/bonnet23_gmd_automatic_tuning_atm_paper/Paper_clean_code/D-read_and_analyze_output_data/ref_data_functions.py:26: UserWarning: WARNING: valid_min not used since it\n",
      "cannot be safely cast to variable data type\n",
      "  ref_TOASW=file['gsolar_clim'][:]-file['gtoa_sw_all_clim'][:] #m/W^2\n",
      "/home/b/b309216/bonnet23_gmd_automatic_tuning_atm_paper/Paper_clean_code/D-read_and_analyze_output_data/ref_data_functions.py:26: UserWarning: WARNING: valid_max not used since it\n",
      "cannot be safely cast to variable data type\n",
      "  ref_TOASW=file['gsolar_clim'][:]-file['gtoa_sw_all_clim'][:] #m/W^2\n",
      "/home/b/b309216/bonnet23_gmd_automatic_tuning_atm_paper/Paper_clean_code/D-read_and_analyze_output_data/ref_data_functions.py:27: UserWarning: WARNING: valid_min not used since it\n",
      "cannot be safely cast to variable data type\n",
      "  ref_TOALW=-file['gtoa_lw_all_clim'][:] #m/W^2\n",
      "/home/b/b309216/bonnet23_gmd_automatic_tuning_atm_paper/Paper_clean_code/D-read_and_analyze_output_data/ref_data_functions.py:27: UserWarning: WARNING: valid_max not used since it\n",
      "cannot be safely cast to variable data type\n",
      "  ref_TOALW=-file['gtoa_lw_all_clim'][:] #m/W^2\n",
      "/home/b/b309216/bonnet23_gmd_automatic_tuning_atm_paper/Paper_clean_code/D-read_and_analyze_output_data/ref_data_functions.py:28: UserWarning: WARNING: valid_min not used since it\n",
      "cannot be safely cast to variable data type\n",
      "  ref_Cl=file['gcldarea_total_daynight_clim'][:] #%\n",
      "/home/b/b309216/bonnet23_gmd_automatic_tuning_atm_paper/Paper_clean_code/D-read_and_analyze_output_data/ref_data_functions.py:28: UserWarning: WARNING: valid_max not used since it\n",
      "cannot be safely cast to variable data type\n",
      "  ref_Cl=file['gcldarea_total_daynight_clim'][:] #%\n",
      "/home/b/b309216/kernels/my-kernel/lib/python3.8/site-packages/iris/analysis/cartography.py:412: UserWarning: Using DEFAULT_SPHERICAL_EARTH_RADIUS.\n",
      "  warnings.warn(\"Using DEFAULT_SPHERICAL_EARTH_RADIUS.\")\n",
      "/home/b/b309216/kernels/my-kernel/lib/python3.8/site-packages/iris/analysis/cartography.py:412: UserWarning: Using DEFAULT_SPHERICAL_EARTH_RADIUS.\n",
      "  warnings.warn(\"Using DEFAULT_SPHERICAL_EARTH_RADIUS.\")\n",
      "/home/b/b309216/kernels/my-kernel/lib/python3.8/site-packages/iris/analysis/cartography.py:412: UserWarning: Using DEFAULT_SPHERICAL_EARTH_RADIUS.\n",
      "  warnings.warn(\"Using DEFAULT_SPHERICAL_EARTH_RADIUS.\")\n",
      "/home/b/b309216/kernels/my-kernel/lib/python3.8/site-packages/iris/analysis/cartography.py:412: UserWarning: Using DEFAULT_SPHERICAL_EARTH_RADIUS.\n",
      "  warnings.warn(\"Using DEFAULT_SPHERICAL_EARTH_RADIUS.\")\n",
      "/home/b/b309216/kernels/my-kernel/lib/python3.8/site-packages/iris/analysis/cartography.py:412: UserWarning: Using DEFAULT_SPHERICAL_EARTH_RADIUS.\n",
      "  warnings.warn(\"Using DEFAULT_SPHERICAL_EARTH_RADIUS.\")\n",
      "/home/b/b309216/kernels/my-kernel/lib/python3.8/site-packages/iris/analysis/cartography.py:412: UserWarning: Using DEFAULT_SPHERICAL_EARTH_RADIUS.\n",
      "  warnings.warn(\"Using DEFAULT_SPHERICAL_EARTH_RADIUS.\")\n",
      "/home/b/b309216/kernels/my-kernel/lib/python3.8/site-packages/iris/analysis/cartography.py:412: UserWarning: Using DEFAULT_SPHERICAL_EARTH_RADIUS.\n",
      "  warnings.warn(\"Using DEFAULT_SPHERICAL_EARTH_RADIUS.\")\n",
      "/home/b/b309216/kernels/my-kernel/lib/python3.8/site-packages/iris/analysis/cartography.py:412: UserWarning: Using DEFAULT_SPHERICAL_EARTH_RADIUS.\n",
      "  warnings.warn(\"Using DEFAULT_SPHERICAL_EARTH_RADIUS.\")\n",
      "/home/b/b309216/kernels/my-kernel/lib/python3.8/site-packages/iris/analysis/cartography.py:412: UserWarning: Using DEFAULT_SPHERICAL_EARTH_RADIUS.\n",
      "  warnings.warn(\"Using DEFAULT_SPHERICAL_EARTH_RADIUS.\")\n"
     ]
    }
   ],
   "source": [
    "#reference data 2nd tuning step\n",
    "ref2tun_mean=ref_data_functions.era5_data()"
   ]
  },
  {
   "cell_type": "markdown",
   "id": "7ddc88d7",
   "metadata": {},
   "source": [
    "# History Matching on the 1st tuning step output metrics"
   ]
  },
  {
   "cell_type": "code",
   "execution_count": 19,
   "id": "ad3ec4cb",
   "metadata": {},
   "outputs": [],
   "source": [
    "#bounds enlarged for LHC (same as in other jupyter notebook /!\\)\n",
    "Emid_bounds = [2e-5, 3e-4]\n",
    "Epen_bounds = [2e-5, 6e-4]\n",
    "Edd_bounds = [5e-5, 6e-4]\n",
    "Taumf_bounds = [200, 10000]\n",
    "Pr_bounds = [5e-1, 1.2]\n",
    "R0top_bounds = [5e-1, 9e-1]\n",
    "bounds=[Emid_bounds, Epen_bounds, Edd_bounds, Taumf_bounds, Pr_bounds, R0top_bounds]"
   ]
  },
  {
   "cell_type": "code",
   "execution_count": 17,
   "id": "42520374",
   "metadata": {},
   "outputs": [
    {
     "data": {
      "text/plain": [
       "102**2 * Matern(length_scale=70.4, nu=1.5)"
      ]
     },
     "execution_count": 17,
     "metadata": {},
     "output_type": "execute_result"
    }
   ],
   "source": [
    "# check the uncertainty of the chosen sample compared to the distribution of uncertainty, + absolute error \n",
    "\n",
    "# train the GP on the training sample\n",
    "kernel = 1 * Matern(length_scale=1.0, nu=1.5) #RBF(length_scale=1.0, length_scale_bounds=(1e-5, 1e5)) #np.array([1.0,1.0,1.0])) #length_scale=10) # ,1.0,1.0,1.0]))#, length_scale_bounds=(1e-2, 1e2))\n",
    "gaussian_process_multi = GaussianProcessRegressor(kernel=kernel,alpha=1e-5, n_restarts_optimizer=20)\n",
    "\n",
    "#scale data https://scikit-learn.org/stable/modules/generated/sklearn.preprocessing.StandardScaler.html#sklearn.preprocessing.StandardScaler\n",
    "scaler_var1 = preprocessing.StandardScaler().fit(var1stPPE)\n",
    "scaled_var1 = scaler_var1.transform(var1stPPE)\n",
    "\n",
    "gaussian_process_multi.fit(scaled_var1, results1stPPE) #\n",
    "gaussian_process_multi.kernel_"
   ]
  },
  {
   "cell_type": "code",
   "execution_count": 20,
   "id": "c064be50",
   "metadata": {},
   "outputs": [
    {
     "name": "stdout",
     "output_type": "stream",
     "text": [
      "{'alpha': 1e-05, 'copy_X_train': True, 'kernel__k1': 1**2, 'kernel__k2': Matern(length_scale=1, nu=1.5), 'kernel__k1__constant_value': 1, 'kernel__k1__constant_value_bounds': (1e-05, 100000.0), 'kernel__k2__length_scale': 1.0, 'kernel__k2__length_scale_bounds': (1e-05, 100000.0), 'kernel__k2__nu': 1.5, 'kernel': 1**2 * Matern(length_scale=1, nu=1.5), 'n_restarts_optimizer': 20, 'normalize_y': False, 'optimizer': 'fmin_l_bfgs_b', 'random_state': None}\n"
     ]
    }
   ],
   "source": [
    "# run the GP on a LHC sample of BIG SIZE\n",
    "from scipy.stats import qmc\n",
    "#bounds enlarged for LHC\n",
    "\n",
    "nvar=6\n",
    "n_samplemany=300000 #for test\n",
    "\n",
    "#LHC\n",
    "sampler = qmc.LatinHypercube(d=nvar)     #d number of dimensions \n",
    "sample1 = sampler.random(n=n_samplemany) #n number of samples\n",
    "\n",
    "scaler_sample1 = preprocessing.StandardScaler().fit(sample1)\n",
    "scaled_sample1 = scaler_sample1.transform(sample1)\n",
    "\n",
    "XLHC=np.zeros((n_samplemany,nvar))\n",
    "\n",
    "for iv in np.arange(0,6):\n",
    "    XLHC[:,iv]=np.min(bounds[iv])+(np.max(bounds[iv])-np.min(bounds[iv]))*sample1[:,iv]\n",
    "\n",
    "#for iv in np.arange(0,6):\n",
    "#    XLHC[:,iv]=np.min(var1[:,iv])+(np.max(var1[:,iv])-np.min(var1[:,iv]))*sample1[:,iv]\n",
    "    \n",
    "mean_XLHC, std_XLHC = gaussian_process_multi.predict(scaled_sample1, return_std=True)\n",
    "\n",
    "print(gaussian_process_multi.get_params(deep=True))\n",
    "#print('mean', np.size(mean_XLHC[0,:]))\n",
    "#print('std', std_XLHC[:10] )"
   ]
  },
  {
   "cell_type": "code",
   "execution_count": 21,
   "id": "8ca1a300",
   "metadata": {},
   "outputs": [],
   "source": [
    "#intersection between both\n",
    "def intersection(list_a, list_b):\n",
    "    intt=[]\n",
    "    for ii in list_a:\n",
    "        intall=np.where(list_b==ii)[0]\n",
    "        if np.size(intall)>0:\n",
    "            intt.append(ii)\n",
    "    return intt"
   ]
  },
  {
   "cell_type": "code",
   "execution_count": 22,
   "id": "c822e563",
   "metadata": {},
   "outputs": [],
   "source": [
    "def optimparameters(metric, T, T2):\n",
    "    #FIND NROY PARAMETERS for 3 first outputs\n",
    "    #T=0.5      # tolerance/treshold to implausibility metric\n",
    "    tau=2   # tau + 1 = number of metrics for which the implausibility treshold should be reached, if tau=2 all 3 first !\n",
    "    noutput1=3\n",
    "    nplot=n_samplemany\n",
    "    isnroy=np.zeros((nplot,noutput1))\n",
    "    issumnroy=np.zeros((nplot,1))\n",
    "    ismultinroy=np.zeros((nplot,1))\n",
    "\n",
    "    #3 first outputs\n",
    "    for imet in np.arange(0,3): #noutput): \n",
    "        intt = np.where(metric[:,imet]<T)\n",
    "        isnroy[intt,imet] = 1\n",
    "\n",
    "    issumnroy = isnroy.sum(axis=1)\n",
    "    #print(issumnroy)\n",
    "    #==np.min(abs(mean_X[:,6+ii]-ref_mean[ii])/ref_std[ii]))\n",
    "\n",
    "    intTotalNroy=np.where(issumnroy>tau) # parameters should satisfies at least the implausibitly treshold for tau metrics \n",
    "\n",
    "    #print(np.size(intTotalNroy))\n",
    "    #print(mean_X[:,6+ii][intt])\n",
    "\n",
    "    #2 last outputs\n",
    "    #T2=4.5     # tolerance/treshold to implausibility metric\n",
    "    tau2=1   # tau + 1 = number of metrics for which the implausibility treshold should be reached, if tau2=1 all 2 last!\n",
    "    noutput2=2\n",
    "    nplot2=n_samplemany\n",
    "    isnroy2=np.zeros((nplot,noutput2))\n",
    "    issumnroy2=np.zeros((nplot,1))\n",
    "    ismultinroy2=np.zeros((nplot,1))\n",
    "\n",
    "    for imet in np.arange(3,5): #noutput): \n",
    "        intt = np.where(metric[:,imet]<T2)\n",
    "        #print(imet,intt)\n",
    "        isnroy2[intt,imet-3] = 1\n",
    "\n",
    "    issumnroy2 = isnroy2.sum(axis=1)\n",
    "    #==np.min(abs(mean_X[:,6+ii]-ref_mean[ii])/ref_std[ii]))\n",
    "    intTotalNroy2=np.where(issumnroy2>tau2) # parameters should satisfies at least the implausibitly treshold for tau metrics \n",
    "\n",
    "    #print(np.size(intTotalNroy2))\n",
    "    #print(Impl2)\n",
    "\n",
    "    inter=intersection(intTotalNroy[0],intTotalNroy2[0])\n",
    "    print(np.size(inter))\n",
    "    \n",
    "    return inter\n",
    "\n"
   ]
  },
  {
   "cell_type": "code",
   "execution_count": 24,
   "id": "bdb69e1e",
   "metadata": {},
   "outputs": [],
   "source": [
    "noutput=5\n",
    "nplot=n_samplemany\n",
    "Impltot=np.zeros((nplot,noutput))\n",
    "for imet in np.arange(0,noutput): #check all 5 metrics\n",
    "    Impltot[:,imet] = abs(mean_XLHC[:,imet]-ref_mean[imet])/np.sqrt(ref_std[imet]**2+std_XLHC[:,imet]**2)\n",
    "\n",
    "Abserror=np.zeros((nplot,noutput))\n",
    "for imet in np.arange(0,noutput): #check all 5 metrics\n",
    "    Abserror[:,imet] = abs(mean_XLHC[:,imet]-ref_mean[imet])#/np.sqrt(ref_std[ii]**2+std_XLHC[:,imet]**2)"
   ]
  },
  {
   "cell_type": "code",
   "execution_count": 25,
   "id": "73cebcb0",
   "metadata": {},
   "outputs": [
    {
     "name": "stdout",
     "output_type": "stream",
     "text": [
      "28\n",
      "optim for Implausibility metric 28 [3932, 18480, 33490, 38012, 38748, 39445, 63038, 70802, 93950, 100691, 104536, 106490, 119843, 168657, 173708, 180017, 211959, 227016, 232437, 235485, 254148, 254453, 257570, 262117, 268261, 269869, 271441, 272659]\n"
     ]
    }
   ],
   "source": [
    "#history matching: selected PPE\n",
    "#the parameter values for parameter number ipara are given by: mean_XLHCMore[optim_impltotMore,ipara] and the outputs: mean_XLHC[optim_impltotMore,ioutput]\n",
    "\n",
    "#threshold values\n",
    "# for the 3 radiation metrics\n",
    "T1=2.8\n",
    "# for the 2 other metrics: cloud cover and water vapor path\n",
    "T2=3.7 #0.2\n",
    "\n",
    "#indices of the parameters that are kept \n",
    "optim_impltot=optimparameters(Impltot,T1,T2)\n",
    "print('optim for Implausibility metric', np.size(optim_impltot),optim_impltot)\n"
   ]
  }
 ],
 "metadata": {
  "kernelspec": {
   "display_name": "new kernel",
   "language": "python",
   "name": "new-kernel"
  },
  "language_info": {
   "codemirror_mode": {
    "name": "ipython",
    "version": 3
   },
   "file_extension": ".py",
   "mimetype": "text/x-python",
   "name": "python",
   "nbconvert_exporter": "python",
   "pygments_lexer": "ipython3",
   "version": "3.8.13"
  }
 },
 "nbformat": 4,
 "nbformat_minor": 5
}
